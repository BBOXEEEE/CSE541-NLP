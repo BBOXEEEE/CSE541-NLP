{
 "cells": [
  {
   "cell_type": "markdown",
   "metadata": {},
   "source": [
    "# 자연어처리 과제 2 (5주차)\n",
    "* 과제는 해당 .ipynb 파일에 코드 작성\n",
    "    * 코드는 google colab의 gpu를 사용하는 런타임 환경에서 모두실행을 통해 한번에 실행 되어야함\n",
    "    * 생성형 AI (ChatGPT, Copilot, Claude, ...) 등 사용 가능\n",
    "        * 단, 사용시 사용한 방법, 입력, 출력을 캡처해 보고서에 기입\n",
    "* Word를 통해 자유형식으로 보고서를 작성\n",
    "    * 보고서의 양식은 자유\n",
    "    * 보고서의 제출은 .pdf 형식으로 제출해야하며, 파일명은 \"학번_이름_HW_??.pdf\"로 제출 할 것\n",
    "    * 보고서에 코드를 그대로 복붙 하지 말 것 (캡처 도구를 활용, 환경 설치 자료 참고)\n",
    "* .ipynb와 .pdf 파일을 el을 통해 제출\n",
    "    * 예시 : \"2232036006_임상훈_HW_01.ipynb\"와 \"2232036006_임상훈_HW_01.pdf\"를 제출"
   ]
  },
  {
   "cell_type": "markdown",
   "metadata": {},
   "source": [
    "## 1. IMDB 데이터 처리 (20점)\n",
    "\n",
    "* Stanford 대학에서 제공하는 IMDB 영화 리뷰 데이터(https://ai.stanford.edu/~amaas/data/sentiment/)를 다운 받아 학습, 테스트 데이터를 구성하시오\n",
    "\n",
    "    * 데이터는 영어 텍스트 데이터로 긍정/부정의 Binary classification 데이터셋임\n",
    "    * 데이터셋의 압축을 해제했을 떄의 각 디렉토리의 용도는 다음과 같음\n",
    "        * train/pos : 긍정 label의 학습 데이터\n",
    "        * train/neg : 부정 label의 학습 데이터\n",
    "        * test/pos : 긍정 label의 테스트 데이터\n",
    "        * test/neg : 부정 label의 테스트 데이터\n",
    "    * 지금껏 배운 다양한 기법을 적용해 tokenizing, nomalizing 등을 진행한 후 vocab을 구축하여야함\n",
    "\n",
    "**GRADING**\n",
    "* 데이터셋 전처리를 통해 vocab 구축 (+20)"
   ]
  },
  {
   "cell_type": "code",
   "execution_count": null,
   "metadata": {},
   "outputs": [],
   "source": [
    "!tar -xzf /content/aclImdb_v1.tar.gz"
   ]
  },
  {
   "cell_type": "code",
   "execution_count": 25,
   "metadata": {},
   "outputs": [
    {
     "data": {
      "text/plain": [
       "<torch._C.Generator at 0x7fbc381c7b90>"
      ]
     },
     "execution_count": 25,
     "metadata": {},
     "output_type": "execute_result"
    }
   ],
   "source": [
    "import torch\n",
    "import random\n",
    "import numpy as np\n",
    "\n",
    "np.random.seed(0)\n",
    "random.seed(0)\n",
    "torch.manual_seed(0)"
   ]
  },
  {
   "cell_type": "markdown",
   "metadata": {},
   "source": [
    "### 1.1 Load Dataset"
   ]
  },
  {
   "cell_type": "code",
   "execution_count": 2,
   "metadata": {},
   "outputs": [],
   "source": [
    "from pathlib import Path\n",
    "\n",
    "raw_data_dir = './aclImdb'\n",
    "data_dir = Path(raw_data_dir)\n",
    "\n",
    "train_datas = []\n",
    "test_datas = []\n",
    "\n",
    "for sentiment in [\"pos\", \"neg\"]:\n",
    "    samples = list(data_dir.glob(f\"train/{sentiment}/*.txt\"))\n",
    "    train_datas.extend(samples)\n",
    "\n",
    "for sentiment in [\"pos\", \"neg\"]:\n",
    "    samples = list(data_dir.glob(f\"test/{sentiment}/*.txt\"))\n",
    "    test_datas.extend(samples)\n",
    "\n",
    "train_file = open(\"train.txt\", \"w\", encoding=\"utf-8\")\n",
    "test_file = open(\"test.txt\", \"w\", encoding=\"utf-8\")\n",
    "\n",
    "for file, datas in [(train_file, train_datas), (test_file, test_datas)]:\n",
    "    file.write(\"id\\ttext\\tlabel\\n\")\n",
    "    for data in datas:\n",
    "        lines = [line.strip().replace(\"\\t\", \" \") for line in data.open().readlines()]\n",
    "        text = \" \".join(lines)\n",
    "        id = data.name[:-4]\n",
    "        label = 1 if \"pos\" in data.parts else 0\n",
    "        file.write(f\"{id}\\t{text}\\t{label}\\n\")\n",
    "    \n",
    "train_file.close()\n",
    "test_file.close()"
   ]
  },
  {
   "cell_type": "code",
   "execution_count": 2,
   "metadata": {},
   "outputs": [],
   "source": [
    "with open(\"train.txt\", \"r\", encoding=\"utf-8\") as file:\n",
    "    contents = file.read()\n",
    "    lines = contents.split(\"\\n\")[1:]\n",
    "    train_data = [line.split(\"\\t\") for line in lines if len(line) > 0]\n",
    "\n",
    "with open(\"test.txt\", \"r\", encoding=\"utf-8\") as file:\n",
    "    contents = file.read()\n",
    "    lines = contents.split(\"\\n\")[1:]\n",
    "    test_data = [line.split(\"\\t\") for line in lines if len(line) > 0]"
   ]
  },
  {
   "cell_type": "markdown",
   "metadata": {},
   "source": [
    "### 1.2 Vocab 구축"
   ]
  },
  {
   "cell_type": "code",
   "execution_count": 3,
   "metadata": {},
   "outputs": [
    {
     "name": "stderr",
     "output_type": "stream",
     "text": [
      "[nltk_data] Downloading package punkt to /home/dev/nltk_data...\n",
      "[nltk_data]   Package punkt is already up-to-date!\n",
      "[nltk_data] Downloading package stopwords to /home/dev/nltk_data...\n",
      "[nltk_data]   Package stopwords is already up-to-date!\n"
     ]
    },
    {
     "data": {
      "text/plain": [
       "True"
      ]
     },
     "execution_count": 3,
     "metadata": {},
     "output_type": "execute_result"
    }
   ],
   "source": [
    "import nltk\n",
    "\n",
    "nltk.download('punkt')\n",
    "nltk.download('stopwords')"
   ]
  },
  {
   "cell_type": "code",
   "execution_count": 5,
   "metadata": {},
   "outputs": [
    {
     "name": "stderr",
     "output_type": "stream",
     "text": [
      "100%|██████████| 25000/25000 [00:25<00:00, 980.80it/s] \n",
      "100%|██████████| 25000/25000 [00:24<00:00, 1001.81it/s]\n"
     ]
    }
   ],
   "source": [
    "import re\n",
    "from tqdm import tqdm\n",
    "from nltk.tokenize import word_tokenize\n",
    "from nltk.corpus import stopwords\n",
    "from nltk.stem import PorterStemmer\n",
    "\n",
    "stop_words = set(stopwords.words('english'))\n",
    "stemmer = PorterStemmer()\n",
    "\n",
    "tokenized_train_dataset = []\n",
    "tokenized_test_dataset = []\n",
    "\n",
    "for data in tqdm(train_data):\n",
    "    text = data[1].lower().replace('<br />', '')  # Remove <br /> tags and lowercase\n",
    "    text = re.sub(r'[^\\w\\s]', '', text)  # Remove punctuation\n",
    "    tokens = word_tokenize(text)\n",
    "    tokens = [word for word in tokens if word not in stop_words]\n",
    "    tokens = [stemmer.stem(word) for word in tokens]\n",
    "    labels = data[2]\n",
    "    tokenized_train_dataset.append((tokens, labels))\n",
    "\n",
    "for data in tqdm(test_data):\n",
    "    text = data[1].lower().replace('<br />', '')  # Remove <br /> tags and lowercase\n",
    "    text = re.sub(r'[^\\w\\s]', '', text)  # Remove punctuation\n",
    "    tokens = word_tokenize(text)\n",
    "    tokens = [word for word in tokens if word not in stop_words]\n",
    "    tokens = [stemmer.stem(word) for word in tokens]\n",
    "    labels = data[2]\n",
    "    tokenized_test_dataset.append((tokens, labels))"
   ]
  },
  {
   "cell_type": "code",
   "execution_count": 6,
   "metadata": {},
   "outputs": [],
   "source": [
    "from collections import Counter\n",
    "\n",
    "token_counter = Counter()\n",
    "\n",
    "for tokens, _ in tokenized_train_dataset:\n",
    "    token_counter.update(tokens)\n",
    "\n",
    "min_count = 2\n",
    "vocab = {\"[PAD]\":0, \"[UNK]\":1}\n",
    "vocab_idx = 2\n",
    "\n",
    "for token, count in token_counter.items():\n",
    "    if count > min_count:\n",
    "        vocab[token] = vocab_idx\n",
    "        vocab_idx += 1"
   ]
  },
  {
   "cell_type": "code",
   "execution_count": 7,
   "metadata": {},
   "outputs": [
    {
     "name": "stdout",
     "output_type": "stream",
     "text": [
      "[('movi', 49582), ('film', 46295), ('one', 26314), ('like', 22059), ('time', 15079), ('good', 14711), ('make', 14498), ('get', 14022), ('charact', 13797), ('see', 13767)]\n",
      "[('autonom', 1), ('releasedaft', 1), ('herselfther', 1), ('matteral', 1), ('gli', 1), ('occhi', 1), ('dentro', 1), ('fuzzylin', 1), ('supervan', 1), ('lasar', 1)]\n"
     ]
    }
   ],
   "source": [
    "print(token_counter.most_common(10))\n",
    "print(token_counter.most_common()[-10:])"
   ]
  },
  {
   "cell_type": "code",
   "execution_count": 8,
   "metadata": {},
   "outputs": [],
   "source": [
    "word2vec_train_datas = []\n",
    "for train_text, _ in tokenized_train_dataset:\n",
    "    word2vec_train_datas.append([word for word in train_text])"
   ]
  },
  {
   "cell_type": "code",
   "execution_count": 9,
   "metadata": {},
   "outputs": [],
   "source": [
    "from gensim.models import Word2Vec\n",
    "\n",
    "SkipGram_W2V = Word2Vec(sentences = word2vec_train_datas, vector_size = 200, window = 5, min_count = 1, workers = 4, sg = 1)"
   ]
  },
  {
   "cell_type": "code",
   "execution_count": 10,
   "metadata": {},
   "outputs": [
    {
     "name": "stdout",
     "output_type": "stream",
     "text": [
      "(29544, 200)\n",
      "29544\n"
     ]
    }
   ],
   "source": [
    "import numpy as np\n",
    "\n",
    "embedding_list = []\n",
    "\n",
    "for token, idx in vocab.items():\n",
    "    if token in SkipGram_W2V.wv:\n",
    "        embedding_list.append(SkipGram_W2V.wv[token])\n",
    "    elif token == \"[PAD]\":\n",
    "        embedding_list.append(np.zeros(SkipGram_W2V.wv.vectors.shape[1]))\n",
    "    elif token == \"[UNK]\":\n",
    "        embedding_list.append(np.random.uniform(-1, 1, SkipGram_W2V.wv.vectors.shape[1]))\n",
    "    else:\n",
    "        embedding_list.append(np.random.uniform(-1, 1, SkipGram_W2V.wv.vectors.shape[1]))\n",
    "\n",
    "embedding_lookup_matrix = np.vstack(embedding_list)\n",
    "\n",
    "print(embedding_lookup_matrix.shape)\n",
    "print(len(vocab))\n"
   ]
  },
  {
   "cell_type": "markdown",
   "metadata": {},
   "source": [
    "## 2. 데이터셋 통계 분석 (30점)\n",
    "* 1에서 처리한 vocab을 통해 tokenizing 된 데이터셋의 여러 통계를 계산하시오\n",
    "    * 통계의 예시\n",
    "        * 학습/테스트 문서의 수\n",
    "        * 학습/테스트 데이터의 평균 token 수\n",
    "        * 데이터의 token histogram\n",
    "        * 학습/테스트에서의 unk token의 수\n",
    "        * 각 token의 빈도 그래프\n",
    "        * 긍정/부정의 token 빈도 차이\n",
    "        * 긍정/부정의 frequent/rare token\n",
    "\n",
    "* 이전 실습까지 사용한 코드 및 검색을 활용하여 최소 1개의 그래프를 그려야 함\n",
    "\n",
    "**GRADING**\n",
    "* 분석한 통계의 수 (+5)"
   ]
  },
  {
   "cell_type": "code",
   "execution_count": 11,
   "metadata": {},
   "outputs": [],
   "source": [
    "import matplotlib.pyplot as plt\n",
    "from collections import Counter"
   ]
  },
  {
   "cell_type": "code",
   "execution_count": 12,
   "metadata": {},
   "outputs": [
    {
     "name": "stdout",
     "output_type": "stream",
     "text": [
      "Train Document :  25000\n",
      "Test Document :  25000\n"
     ]
    }
   ],
   "source": [
    "# 학습/테스트 문서의 수\n",
    "print('Train Document : ', len(tokenized_train_dataset))\n",
    "print('Test Document : ', len(tokenized_test_dataset))"
   ]
  },
  {
   "cell_type": "code",
   "execution_count": 13,
   "metadata": {},
   "outputs": [
    {
     "name": "stdout",
     "output_type": "stream",
     "text": [
      "학습 데이터의 평균 token 수:  121.16284\n",
      "테스트 데이터의 평균 token 수:  118.39504\n"
     ]
    }
   ],
   "source": [
    "# 학습/테스트 데이터의 평균 token 수\n",
    "train_avg_tokens = sum(map(lambda x: len(x[0]), tokenized_train_dataset)) / len(tokenized_train_dataset)\n",
    "test_avg_tokens = sum(map(lambda x: len(x[0]), tokenized_test_dataset)) / len(tokenized_test_dataset)\n",
    "\n",
    "print('학습 데이터의 평균 token 수: ', train_avg_tokens)\n",
    "print('테스트 데이터의 평균 token 수: ', test_avg_tokens)"
   ]
  },
  {
   "cell_type": "code",
   "execution_count": 23,
   "metadata": {},
   "outputs": [
    {
     "data": {
      "image/png": "[encoded data removed]",
      "text/plain": [
       "<Figure size 640x480 with 1 Axes>"
      ]
     },
     "metadata": {},
     "output_type": "display_data"
    },
    {
     "data": {
      "image/png": "[encoded data removed]",
      "text/plain": [
       "<Figure size 640x480 with 1 Axes>"
      ]
     },
     "metadata": {},
     "output_type": "display_data"
    }
   ],
   "source": [
    "# 데이터의 token histogram\n",
    "train_tokens = [len(tokens) for tokens, _ in tokenized_train_dataset]\n",
    "test_tokens = [len(tokens) for tokens, _ in tokenized_test_dataset]\n",
    "\n",
    "# Train\n",
    "plt.hist(train_tokens, bins=100)\n",
    "plt.title('Training Data Token Histogram')\n",
    "plt.xlabel('Token Count')\n",
    "plt.ylabel('Frequency')\n",
    "plt.axvline(x=train_avg_tokens, color='red', linestyle='--', label='Average')\n",
    "plt.legend()\n",
    "plt.show()\n",
    "\n",
    "# Test\n",
    "plt.hist(test_tokens, bins=100)\n",
    "plt.title('Test Data Token Histogram')\n",
    "plt.xlabel('Token Count')\n",
    "plt.ylabel('Frequency')\n",
    "plt.axvline(x=train_avg_tokens, color='red', linestyle='--', label='Average')\n",
    "plt.legend()\n",
    "plt.show()"
   ]
  },
  {
   "cell_type": "code",
   "execution_count": 24,
   "metadata": {},
   "outputs": [
    {
     "name": "stdout",
     "output_type": "stream",
     "text": [
      "학습 데이터에서 UNK token의 수:  94143\n",
      "테스트 데이터에서 UNK token의 수:  131896\n"
     ]
    }
   ],
   "source": [
    "# 학습/테스트 데이터에서 UNK token의 수\n",
    "UNK_token_train = sum(1 for tokens, _ in tokenized_train_dataset for token in tokens if token not in vocab)\n",
    "UNK_token_test = sum(1 for tokens, _ in tokenized_test_dataset for token in tokens if token not in vocab)\n",
    "\n",
    "print('학습 데이터에서 UNK token의 수: ', UNK_token_train)\n",
    "print('테스트 데이터에서 UNK token의 수: ', UNK_token_test)"
   ]
  },
  {
   "cell_type": "code",
   "execution_count": 25,
   "metadata": {},
   "outputs": [
    {
     "data": {
      "image/png": "[encoded data removed]",
      "text/plain": [
       "<Figure size 2000x1000 with 2 Axes>"
      ]
     },
     "metadata": {},
     "output_type": "display_data"
    }
   ],
   "source": [
    "# 각 token의 빈도 그래프\n",
    "train_token_counter = Counter(train_tokens)\n",
    "test_token_counter = Counter(test_tokens)\n",
    "\n",
    "plt.figure(figsize=(20, 10))\n",
    "plt.subplot(1, 2, 1)\n",
    "plt.bar(*zip(*train_token_counter.most_common(20)))\n",
    "plt.title(\"Top 20 Tokens in Train Data\")\n",
    "plt.xlabel(\"Token\")\n",
    "plt.ylabel(\"Frequency\")\n",
    "plt.xticks(rotation=45)\n",
    "plt.subplot(1, 2, 2)\n",
    "plt.bar(*zip(*test_token_counter.most_common(20)))\n",
    "plt.title(\"Top 20 Tokens in Test Data\")\n",
    "plt.xlabel(\"Token\")\n",
    "plt.ylabel(\"Frequency\")\n",
    "plt.xticks(rotation=45)\n",
    "plt.tight_layout()\n",
    "plt.show()"
   ]
  },
  {
   "cell_type": "code",
   "execution_count": 27,
   "metadata": {},
   "outputs": [
    {
     "name": "stdout",
     "output_type": "stream",
     "text": [
      "긍정 token 수:  1539472\n",
      "부정 token 수:  1489599\n"
     ]
    },
    {
     "data": {
      "image/png": "[encoded data removed]",
      "text/plain": [
       "<Figure size 1200x600 with 1 Axes>"
      ]
     },
     "metadata": {},
     "output_type": "display_data"
    }
   ],
   "source": [
    "# 긍정/부정 token의 빈도 차이\n",
    "pos_train_tokens = [token for tokens, label in tokenized_train_dataset if label == '1' for token in tokens]\n",
    "neg_train_tokens = [token for tokens, label in tokenized_train_dataset if label == '0' for token in tokens]\n",
    "\n",
    "pos_token_counter = Counter(pos_train_tokens)\n",
    "neg_token_counter = Counter(neg_train_tokens)\n",
    "\n",
    "print('긍정 token 수: ', len(pos_train_tokens))\n",
    "print('부정 token 수: ', len(neg_train_tokens))\n",
    "\n",
    "plt.figure(figsize=(12, 6))\n",
    "plt.bar(*zip(*pos_token_counter.most_common(20)), color='b', alpha=0.5, label='Positive')\n",
    "plt.bar(*zip(*neg_token_counter.most_common(20)), color='r', alpha=0.5, label='Negative')\n",
    "plt.title(\"Top 20 Tokens by Sentiment\")\n",
    "plt.xlabel(\"Token\")\n",
    "plt.ylabel(\"Frequency\")\n",
    "plt.xticks(rotation=45)\n",
    "plt.legend()\n",
    "plt.tight_layout()\n",
    "plt.show()"
   ]
  },
  {
   "cell_type": "code",
   "execution_count": 29,
   "metadata": {},
   "outputs": [
    {
     "name": "stdout",
     "output_type": "stream",
     "text": [
      "긍정 frequent token:  [('film', 24398), ('movi', 21784), ('one', 13506), ('like', 10091), ('time', 7882), ('good', 7478), ('see', 7251), ('stori', 7187), ('charact', 6867), ('make', 6662)]\n",
      "긍정 rare token:  [('cort', 1), ('garboth', 1), ('debutim', 1), ('closeupsalthough', 1), ('mathiss', 1), ('darin', 1), ('ipanema', 1), ('togetheropen', 1), ('youalan', 1), ('mauricecassavet', 1)]\n",
      "부정 frequent token:  [('movi', 27798), ('film', 21897), ('one', 12808), ('like', 11968), ('make', 7836), ('even', 7603), ('get', 7602), ('good', 7233), ('time', 7197), ('watch', 7183)]\n",
      "부정 rare token:  [('releasedaft', 1), ('herselfther', 1), ('auer', 1), ('matteral', 1), ('gli', 1), ('occhi', 1), ('dentro', 1), ('fuzzylin', 1), ('supervan', 1), ('lasar', 1)]\n"
     ]
    }
   ],
   "source": [
    "# 긍정/부정의 frequent/rare token\n",
    "pos_frequent_tokens = pos_token_counter.most_common(10)\n",
    "pos_rare_tokens = pos_token_counter.most_common()[-10:]\n",
    "\n",
    "neg_frequent_tokens = neg_token_counter.most_common(10)\n",
    "neg_rare_tokens = neg_token_counter.most_common()[-10:]\n",
    "\n",
    "print('긍정 frequent token: ', pos_frequent_tokens)\n",
    "print('긍정 rare token: ', pos_rare_tokens)\n",
    "print('부정 frequent token: ', neg_frequent_tokens)\n",
    "print('부정 rare token: ', neg_rare_tokens)"
   ]
  },
  {
   "cell_type": "markdown",
   "metadata": {},
   "source": [
    "## 3. Classification 모델 구축 및 학습 (50점)\n",
    "* 이론 및 실습 수업을 통해 배운 MLP, CNN, RNN을 사용하여 각자의 모델을 구축하시오\n",
    "    * 모델의 크기는 ModelSummary 기준 500MB의 메모리를 초과하면 안됨\n",
    "    * 모델은 최대 10 epoch 학습 할 수 있음 (적게 학습하는 것은 ok)\n",
    "* 최대한 높은 성능을 기록하는 모델을 구축하여야 함\n",
    "    * 학습엔 주어진 학습 데이터만을 사용하여야 함\n",
    "    * 테스트 데이터를 학습에 사용하면 0점\n",
    "    * 단, 테스트 데이터에 대한 통계를 보고 모델을 구축하는 것은 가능!\n",
    "* 모델 구성에 있어 왜 자신이 그런 모델 구조를 설계 하였는지 설명을 하여야함\n",
    "\n",
    "**GRADING**\n",
    "* 모델 구축 및 학습 (+20)\n",
    "* 모델에 대한 설명 (+10)\n",
    "* 모델 성능에 따른 성적\n",
    "    * 상위 0~30% :  +20\n",
    "    * 상위 30~50% :  +15\n",
    "    * 상위 50~70% :  +10\n",
    "    * 상위 70~100% : +5"
   ]
  },
  {
   "cell_type": "markdown",
   "metadata": {},
   "source": [
    "### 3.1 Padding"
   ]
  },
  {
   "cell_type": "code",
   "execution_count": 30,
   "metadata": {},
   "outputs": [
    {
     "name": "stdout",
     "output_type": "stream",
     "text": [
      "리뷰의 최대 길이:  1429\n",
      "리뷰의 평균 길이:  121.16284\n"
     ]
    },
    {
     "data": {
      "image/png": "[encoded data removed]",
      "text/plain": [
       "<Figure size 640x480 with 1 Axes>"
      ]
     },
     "metadata": {},
     "output_type": "display_data"
    }
   ],
   "source": [
    "import matplotlib.pyplot as plt\n",
    "\n",
    "print('리뷰의 최대 길이: ', max(len(text) for text, _ in tokenized_train_dataset))\n",
    "print('리뷰의 평균 길이: ', sum(map(lambda x: len(x[0]), tokenized_train_dataset)) / len(tokenized_train_dataset))\n",
    "\n",
    "plt.hist([len(text) for text, _ in tokenized_train_dataset], bins=50)\n",
    "plt.xlabel('length of text')\n",
    "plt.ylabel('number of text')\n",
    "plt.show()"
   ]
  },
  {
   "cell_type": "code",
   "execution_count": 31,
   "metadata": {},
   "outputs": [
    {
     "name": "stdout",
     "output_type": "stream",
     "text": [
      "tokenized_train_dataset 중 길이가 500 이하인 텍스트의 비율: 99.372\n"
     ]
    }
   ],
   "source": [
    "threshold = 500\n",
    "\n",
    "count = 0\n",
    "for text, _ in tokenized_train_dataset:\n",
    "    if(len(text) <= threshold):\n",
    "        count += 1\n",
    "\n",
    "ratio = count / len(tokenized_train_dataset) * 100\n",
    "print('tokenized_train_dataset 중 길이가 %s 이하인 텍스트의 비율: %s' %(threshold, ratio))"
   ]
  },
  {
   "cell_type": "markdown",
   "metadata": {},
   "source": [
    "### 3.2 모델 구축 및 학습"
   ]
  },
  {
   "cell_type": "code",
   "execution_count": 11,
   "metadata": {},
   "outputs": [],
   "source": [
    "import torch\n",
    "from torch.utils.data import Dataset, DataLoader\n",
    "\n",
    "# define dataset class\n",
    "class SentimentDataset(Dataset):\n",
    "    def __init__(self, data, vocab):\n",
    "        self.data = data\n",
    "        self.vocab = vocab\n",
    "\n",
    "    def __len__(self):\n",
    "        return len(self.data)\n",
    "\n",
    "    def __getitem__(self, index):\n",
    "        label = int(self.data[index][1])\n",
    "        tokens = self.data[index][0]\n",
    "\n",
    "        token_ids = [self.vocab[token] if token in self.vocab else 1 for token in tokens]\n",
    "        \n",
    "        if len(token_ids) > 500:\n",
    "            token_ids = token_ids[:500]\n",
    "        else:\n",
    "            token_ids = token_ids[:500] + [0] * (500 - len(token_ids))\n",
    "\n",
    "        return torch.tensor(token_ids), torch.tensor(label)"
   ]
  },
  {
   "cell_type": "code",
   "execution_count": 12,
   "metadata": {},
   "outputs": [
    {
     "name": "stderr",
     "output_type": "stream",
     "text": [
      "/home/dev/anaconda3/envs/nlp/lib/python3.12/site-packages/tqdm/auto.py:21: TqdmWarning: IProgress not found. Please update jupyter and ipywidgets. See https://ipywidgets.readthedocs.io/en/stable/user_install.html\n",
      "  from .autonotebook import tqdm as notebook_tqdm\n"
     ]
    }
   ],
   "source": [
    "import torch.nn as nn\n",
    "import lightning as pl\n",
    "\n",
    "class SentimentClassifierPL(pl.LightningModule):\n",
    "    def __init__(self, sentiment_classifier):\n",
    "        super(SentimentClassifierPL, self).__init__()\n",
    "        self.model = sentiment_classifier\n",
    "        self.loss = nn.CrossEntropyLoss()\n",
    "        \n",
    "        self.validation_step_outputs = []\n",
    "        self.test_step_outputs = []\n",
    "        self.save_hyperparameters()\n",
    "    \n",
    "    def training_step(self, batch, batch_idx):\n",
    "        inputs, labels = batch\n",
    "        outputs = self.model(inputs)\n",
    "        loss = self.loss(outputs, labels)\n",
    "        self.log(\"train_loss\", loss)\n",
    "        return loss\n",
    "    \n",
    "    def validation_step(self, batch, batch_idx):\n",
    "        inputs, labels = batch\n",
    "        outputs = self.model(inputs)\n",
    "        loss = self.loss(outputs, labels)\n",
    "        self.log(\"val_loss\", loss)\n",
    "        self.validation_step_outputs.append((loss, outputs, labels))\n",
    "        return loss, outputs, labels\n",
    "    \n",
    "    def on_validation_epoch_end(self):\n",
    "        outputs = self.validation_step_outputs\n",
    "        avg_loss = torch.stack([x[0] for x in outputs]).mean()\n",
    "        self.log(\"avg_val_loss\", avg_loss)\n",
    "        \n",
    "        all_outputs = torch.cat([x[1] for x in outputs])\n",
    "        all_labels = torch.cat([x[2] for x in outputs])\n",
    "        all_preds = all_outputs.argmax(dim=1)\n",
    "        accuracy = (all_preds == all_labels).float().mean()\n",
    "        self.log(\"val_accuracy\", accuracy)\n",
    "        self.validation_step_outputs.clear()\n",
    "    \n",
    "    def test_step(self, batch, batch_idx):\n",
    "        inputs, labels = batch\n",
    "        outputs = self.model(inputs)\n",
    "        loss = self.loss(outputs, labels)\n",
    "        self.log(\"test_loss\", loss)\n",
    "        self.test_step_outputs.append((loss, outputs, labels))\n",
    "        return loss, outputs, labels\n",
    "    \n",
    "    def on_test_epoch_end(self):\n",
    "        outputs = self.test_step_outputs\n",
    "        avg_loss = torch.stack([x[0] for x in outputs]).mean()\n",
    "        self.log(\"avg_test_loss\", avg_loss)\n",
    "        \n",
    "        all_outputs = torch.cat([x[1] for x in outputs])\n",
    "        all_labels = torch.cat([x[2] for x in outputs])\n",
    "        all_preds = all_outputs.argmax(dim=1)\n",
    "        accuracy = (all_preds == all_labels).float().mean()\n",
    "        self.log(\"test_accuracy\", accuracy)\n",
    "        self.test_step_outputs.clear()\n",
    "        \n",
    "    def configure_optimizers(self):\n",
    "        optimizer = torch.optim.Adam(self.model.parameters(), lr=1e-4, weight_decay=0.01)\n",
    "        return optimizer"
   ]
  },
  {
   "cell_type": "code",
   "execution_count": 13,
   "metadata": {},
   "outputs": [
    {
     "name": "stderr",
     "output_type": "stream",
     "text": [
      "Failed to detect the name of this notebook, you can set it manually with the WANDB_NOTEBOOK_NAME environment variable to enable code saving.\n",
      "\u001b[34m\u001b[1mwandb\u001b[0m: Currently logged in as: \u001b[33mnoeyhesx\u001b[0m. Use \u001b[1m`wandb login --relogin`\u001b[0m to force relogin\n"
     ]
    }
   ],
   "source": [
    "import wandb\n",
    "from lightning.pytorch.loggers import WandbLogger\n",
    "from lightning.pytorch.callbacks import ModelSummary\n",
    "\n",
    "wandb.login()\n",
    "\n",
    "def check_vocab_properties(vocab):\n",
    "    print(f\"Vocab size: {len(vocab)}\")\n",
    "    print(f\"Vocab items: {list(vocab.items())[:5]}\")\n",
    "\n",
    "\n",
    "def check_performance(model, vocab,train_data, test_data, max_epochs, wandb_log_name):\n",
    "    wandb_logger = WandbLogger(project=\"NLP\", name=wandb_log_name, group=\"HW02\")\n",
    "\n",
    "    pl_model = SentimentClassifierPL(model)\n",
    "\n",
    "    train_dataset = SentimentDataset(train_data, vocab)\n",
    "    train_loader = DataLoader(train_dataset, batch_size=64, shuffle=True, num_workers=4)\n",
    "    val_dataset = SentimentDataset(test_data, vocab)\n",
    "    val_loader = DataLoader(val_dataset, batch_size=64, shuffle=False, num_workers=4)\n",
    "    test_dataset = SentimentDataset(test_data, vocab)\n",
    "    test_loader = DataLoader(test_dataset, batch_size=64, shuffle=False, num_workers=4)\n",
    "\n",
    "    trainer = pl.Trainer(\n",
    "        max_epochs=max_epochs,\n",
    "        accelerator=\"gpu\",\n",
    "        logger=wandb_logger,\n",
    "        callbacks=[ModelSummary(max_depth=2)]\n",
    "    )\n",
    "\n",
    "    trainer.fit(\n",
    "        model=pl_model,\n",
    "        train_dataloaders=train_loader,\n",
    "        val_dataloaders=val_loader\n",
    "    )\n",
    "\n",
    "    trainer.test(dataloaders=test_loader)\n",
    "\n",
    "    wandb.finish()"
   ]
  },
  {
   "cell_type": "code",
   "execution_count": 14,
   "metadata": {},
   "outputs": [],
   "source": [
    "import torch.nn as nn\n",
    "import torch.nn.functional as F"
   ]
  },
  {
   "cell_type": "code",
   "execution_count": 15,
   "metadata": {},
   "outputs": [],
   "source": [
    "class CNNwithLSTM(nn.Module):\n",
    "    def __init__(self, vocab_size):\n",
    "        super(CNNwithLSTM, self).__init__()\n",
    "        self.embedding = nn.Embedding.from_pretrained(torch.FloatTensor(embedding_lookup_matrix), freeze=False)\n",
    "\n",
    "        self.conv1 = nn.Conv2d(1, 128, (3, 200))\n",
    "        self.conv2 = nn.Conv2d(1, 128, (5, 200))\n",
    "        self.conv3 = nn.Conv2d(1, 128, (7, 200))\n",
    "        self.conv4 = nn.Conv2d(1, 128, (9, 200))\n",
    "\n",
    "        self.dropout = nn.Dropout(0.5)\n",
    "        self.bn = nn.BatchNorm1d(128)\n",
    "\n",
    "        self.rnn = nn.LSTM(128, 128, batch_first=True, num_layers=1, bidirectional=False)\n",
    "        self.fc = nn.Linear(4*128, 2)\n",
    "    \n",
    "    def forward(self, x):\n",
    "        embedding = self.embedding(x).unsqueeze(1)\n",
    "\n",
    "        conv1_feature = F.relu(self.conv1(embedding).squeeze(3))\n",
    "        conv2_feature = F.relu(self.conv2(embedding).squeeze(3))\n",
    "        conv3_feature = F.relu(self.conv3(embedding).squeeze(3))\n",
    "        conv4_feature = F.relu(self.conv4(embedding).squeeze(3))\n",
    "\n",
    "        max1 = F.max_pool1d(conv1_feature, conv1_feature.size(2)).squeeze(2)\n",
    "        max2 = F.max_pool1d(conv2_feature, conv2_feature.size(2)).squeeze(2)\n",
    "        max3 = F.max_pool1d(conv3_feature, conv3_feature.size(2)).squeeze(2)\n",
    "        max4 = F.max_pool1d(conv4_feature, conv4_feature.size(2)).squeeze(2)\n",
    "        \n",
    "        max1 = self.bn(self.dropout(max1))\n",
    "        max2 = self.bn(self.dropout(max2))\n",
    "        max3 = self.bn(self.dropout(max3))\n",
    "        max4 = self.bn(self.dropout(max4))\n",
    "\n",
    "        rnn1, _ = self.rnn(max1)\n",
    "        rnn2, _ = self.rnn(max2)\n",
    "        rnn3, _ = self.rnn(max3)\n",
    "        rnn4, _ = self.rnn(max4)\n",
    "        \n",
    "        x = torch.cat([rnn1, rnn2, rnn3, rnn4], dim=1)\n",
    "        # print(x.size())\n",
    "\n",
    "        x = self.fc(x)\n",
    "\n",
    "        return x"
   ]
  },
  {
   "cell_type": "code",
   "execution_count": 16,
   "metadata": {},
   "outputs": [],
   "source": [
    "sample_inputs = torch.randint(0, len(vocab), (2, 500))"
   ]
  },
  {
   "cell_type": "code",
   "execution_count": 92,
   "metadata": {},
   "outputs": [
    {
     "data": {
      "text/plain": [
       "tensor([[-0.0149,  0.0732],\n",
       "        [ 0.0042,  0.0144]], grad_fn=<AddmmBackward0>)"
      ]
     },
     "execution_count": 92,
     "metadata": {},
     "output_type": "execute_result"
    }
   ],
   "source": [
    "cnn_lstm_model = CNNwithLSTM(len(vocab))\n",
    "cnn_lstm_model.forward(sample_inputs)"
   ]
  },
  {
   "cell_type": "code",
   "execution_count": 101,
   "metadata": {},
   "outputs": [
    {
     "name": "stderr",
     "output_type": "stream",
     "text": [
      "/home/dev/anaconda3/envs/nlp/lib/python3.12/site-packages/lightning/pytorch/utilities/parsing.py:199: Attribute 'sentiment_classifier' is an instance of `nn.Module` and is already saved during checkpointing. It is recommended to ignore them using `self.save_hyperparameters(ignore=['sentiment_classifier'])`.\n",
      "Trainer already configured with model summary callbacks: [<class 'lightning.pytorch.callbacks.model_summary.ModelSummary'>]. Skipping setting a default `ModelSummary` callback.\n",
      "GPU available: True (cuda), used: True\n",
      "TPU available: False, using: 0 TPU cores\n",
      "IPU available: False, using: 0 IPUs\n",
      "HPU available: False, using: 0 HPUs\n"
     ]
    },
    {
     "data": {
      "text/html": [
       "wandb version 0.16.6 is available!  To upgrade, please run:\n",
       " $ pip install wandb --upgrade"
      ],
      "text/plain": [
       "<IPython.core.display.HTML object>"
      ]
     },
     "metadata": {},
     "output_type": "display_data"
    },
    {
     "data": {
      "text/html": [
       "Tracking run with wandb version 0.16.5"
      ],
      "text/plain": [
       "<IPython.core.display.HTML object>"
      ]
     },
     "metadata": {},
     "output_type": "display_data"
    },
    {
     "data": {
      "text/html": [
       "Run data is saved locally in <code>./wandb/run-20240408_223211-zsoldq80</code>"
      ],
      "text/plain": [
       "<IPython.core.display.HTML object>"
      ]
     },
     "metadata": {},
     "output_type": "display_data"
    },
    {
     "data": {
      "text/html": [
       "Syncing run <strong><a href='https://wandb.ai/noeyhesx/NLP/runs/zsoldq80/workspace' target=\"_blank\">cnn_lstm_epoch3_dim200</a></strong> to <a href='https://wandb.ai/noeyhesx/NLP' target=\"_blank\">Weights & Biases</a> (<a href='https://wandb.me/run' target=\"_blank\">docs</a>)<br/>"
      ],
      "text/plain": [
       "<IPython.core.display.HTML object>"
      ]
     },
     "metadata": {},
     "output_type": "display_data"
    },
    {
     "data": {
      "text/html": [
       " View project at <a href='https://wandb.ai/noeyhesx/NLP' target=\"_blank\">https://wandb.ai/noeyhesx/NLP</a>"
      ],
      "text/plain": [
       "<IPython.core.display.HTML object>"
      ]
     },
     "metadata": {},
     "output_type": "display_data"
    },
    {
     "data": {
      "text/html": [
       " View run at <a href='https://wandb.ai/noeyhesx/NLP/runs/zsoldq80/workspace' target=\"_blank\">https://wandb.ai/noeyhesx/NLP/runs/zsoldq80/workspace</a>"
      ],
      "text/plain": [
       "<IPython.core.display.HTML object>"
      ]
     },
     "metadata": {},
     "output_type": "display_data"
    },
    {
     "name": "stderr",
     "output_type": "stream",
     "text": [
      "LOCAL_RANK: 0 - CUDA_VISIBLE_DEVICES: [0]\n",
      "\n",
      "   | Name            | Type             | Params\n",
      "------------------------------------------------------\n",
      "0  | model           | CNNwithLSTM      | 6.7 M \n",
      "1  | model.embedding | Embedding        | 5.9 M \n",
      "2  | model.conv1     | Conv2d           | 76.9 K\n",
      "3  | model.conv2     | Conv2d           | 128 K \n",
      "4  | model.conv3     | Conv2d           | 179 K \n",
      "5  | model.conv4     | Conv2d           | 230 K \n",
      "6  | model.dropout   | Dropout          | 0     \n",
      "7  | model.bn        | BatchNorm1d      | 256   \n",
      "8  | model.rnn       | LSTM             | 132 K \n",
      "9  | model.fc        | Linear           | 1.0 K \n",
      "10 | loss            | CrossEntropyLoss | 0     \n",
      "------------------------------------------------------\n",
      "6.7 M     Trainable params\n",
      "0         Non-trainable params\n",
      "6.7 M     Total params\n",
      "26.628    Total estimated model params size (MB)\n"
     ]
    },
    {
     "name": "stdout",
     "output_type": "stream",
     "text": [
      "Epoch 2: 100%|██████████| 391/391 [00:26<00:00, 14.53it/s, v_num=dq80]      "
     ]
    },
    {
     "name": "stderr",
     "output_type": "stream",
     "text": [
      "`Trainer.fit` stopped: `max_epochs=3` reached.\n"
     ]
    },
    {
     "name": "stdout",
     "output_type": "stream",
     "text": [
      "Epoch 2: 100%|██████████| 391/391 [00:27<00:00, 14.47it/s, v_num=dq80]\n"
     ]
    },
    {
     "name": "stderr",
     "output_type": "stream",
     "text": [
      "/home/dev/anaconda3/envs/nlp/lib/python3.12/site-packages/lightning/pytorch/trainer/connectors/checkpoint_connector.py:145: `.test(ckpt_path=None)` was called without a model. The best model of the previous `fit` call will be used. You can pass `.test(ckpt_path='best')` to use the best model or `.test(ckpt_path='last')` to use the last model. If you pass a value, this warning will be silenced.\n",
      "Restoring states from the checkpoint path at ./NLP/zsoldq80/checkpoints/epoch=2-step=1173.ckpt\n",
      "LOCAL_RANK: 0 - CUDA_VISIBLE_DEVICES: [0]\n",
      "Loaded model weights from the checkpoint at ./NLP/zsoldq80/checkpoints/epoch=2-step=1173.ckpt\n"
     ]
    },
    {
     "name": "stdout",
     "output_type": "stream",
     "text": [
      "Testing DataLoader 0: 100%|██████████| 391/391 [00:07<00:00, 52.53it/s]\n",
      "────────────────────────────────────────────────────────────────────────────────────────────────────────────────────────\n",
      "       Test metric             DataLoader 0\n",
      "────────────────────────────────────────────────────────────────────────────────────────────────────────────────────────\n",
      "      avg_test_loss         0.30448976159095764\n",
      "      test_accuracy         0.8840399980545044\n",
      "        test_loss           0.3045156002044678\n",
      "────────────────────────────────────────────────────────────────────────────────────────────────────────────────────────\n"
     ]
    },
    {
     "data": {
      "text/html": [
       "<style>\n",
       "    table.wandb td:nth-child(1) { padding: 0 10px; text-align: left ; width: auto;} td:nth-child(2) {text-align: left ; width: 100%}\n",
       "    .wandb-row { display: flex; flex-direction: row; flex-wrap: wrap; justify-content: flex-start; width: 100% }\n",
       "    .wandb-col { display: flex; flex-direction: column; flex-basis: 100%; flex: 1; padding: 10px; }\n",
       "    </style>\n",
       "<div class=\"wandb-row\"><div class=\"wandb-col\"><h3>Run history:</h3><br/><table class=\"wandb\"><tr><td>avg_test_loss</td><td>▁</td></tr><tr><td>avg_val_loss</td><td>█▁▁</td></tr><tr><td>epoch</td><td>▁▁▁▁▁▁▁▁▃▃▃▃▃▃▃▃▃▆▆▆▆▆▆▆▆▆█</td></tr><tr><td>test_accuracy</td><td>▁</td></tr><tr><td>test_loss</td><td>▁</td></tr><tr><td>train_loss</td><td>█▁▃▃▅▃▅▃▄▆▅▁▇▅▂▂▂▃▁▃▂▁▂</td></tr><tr><td>trainer/global_step</td><td>▁▁▂▂▂▃▃▃▃▃▄▄▄▅▅▅▆▆▆▆▇▇▇████</td></tr><tr><td>val_accuracy</td><td>▁▇█</td></tr><tr><td>val_loss</td><td>█▁▁</td></tr></table><br/></div><div class=\"wandb-col\"><h3>Run summary:</h3><br/><table class=\"wandb\"><tr><td>avg_test_loss</td><td>0.30449</td></tr><tr><td>avg_val_loss</td><td>0.30449</td></tr><tr><td>epoch</td><td>3</td></tr><tr><td>test_accuracy</td><td>0.88404</td></tr><tr><td>test_loss</td><td>0.30452</td></tr><tr><td>train_loss</td><td>0.17504</td></tr><tr><td>trainer/global_step</td><td>1173</td></tr><tr><td>val_accuracy</td><td>0.88404</td></tr><tr><td>val_loss</td><td>0.30452</td></tr></table><br/></div></div>"
      ],
      "text/plain": [
       "<IPython.core.display.HTML object>"
      ]
     },
     "metadata": {},
     "output_type": "display_data"
    },
    {
     "data": {
      "text/html": [
       " View run <strong style=\"color:#cdcd00\">cnn_lstm_epoch3_dim200</strong> at: <a href='https://wandb.ai/noeyhesx/NLP/runs/zsoldq80/workspace' target=\"_blank\">https://wandb.ai/noeyhesx/NLP/runs/zsoldq80/workspace</a><br/>Synced 6 W&B file(s), 0 media file(s), 0 artifact file(s) and 0 other file(s)"
      ],
      "text/plain": [
       "<IPython.core.display.HTML object>"
      ]
     },
     "metadata": {},
     "output_type": "display_data"
    },
    {
     "data": {
      "text/html": [
       "Find logs at: <code>./wandb/run-20240408_223211-zsoldq80/logs</code>"
      ],
      "text/plain": [
       "<IPython.core.display.HTML object>"
      ]
     },
     "metadata": {},
     "output_type": "display_data"
    }
   ],
   "source": [
    "check_performance(cnn_lstm_model, vocab, tokenized_train_dataset, tokenized_test_dataset, 3, \"cnn_lstm_epoch3_dim200\")"
   ]
  },
  {
   "cell_type": "code",
   "execution_count": 17,
   "metadata": {},
   "outputs": [],
   "source": [
    "class CNN_biLSTM(nn.Module):\n",
    "    def __init__(self, vocab_size):\n",
    "        super(CNN_biLSTM, self).__init__()\n",
    "        self.embedding = nn.Embedding.from_pretrained(torch.FloatTensor(embedding_lookup_matrix), freeze=False)\n",
    "\n",
    "        self.conv1 = nn.Conv2d(1, 128, (3, 200))\n",
    "        self.conv2 = nn.Conv2d(1, 128, (5, 200))\n",
    "        self.conv3 = nn.Conv2d(1, 128, (7, 200))\n",
    "        self.conv4 = nn.Conv2d(1, 128, (9, 200))\n",
    "\n",
    "        self.dropout = nn.Dropout(0.5)\n",
    "        self.bn = nn.BatchNorm1d(128)\n",
    "\n",
    "        self.rnn = nn.LSTM(128, 128, batch_first=True, num_layers=1, bidirectional=True)\n",
    "        self.fc = nn.Sequential(\n",
    "            nn.Linear(4*128*2, 256),\n",
    "            nn.ReLU(),\n",
    "            nn.Linear(256, 2)\n",
    "        )\n",
    "    \n",
    "    def forward(self, x):\n",
    "        embedding = self.embedding(x).unsqueeze(1)\n",
    "\n",
    "        conv1_feature = F.relu(self.conv1(embedding).squeeze(3))\n",
    "        conv2_feature = F.relu(self.conv2(embedding).squeeze(3))\n",
    "        conv3_feature = F.relu(self.conv3(embedding).squeeze(3))\n",
    "        conv4_feature = F.relu(self.conv4(embedding).squeeze(3))\n",
    "\n",
    "        max1 = F.max_pool1d(conv1_feature, conv1_feature.size(2)).squeeze(2)\n",
    "        max2 = F.max_pool1d(conv2_feature, conv2_feature.size(2)).squeeze(2)\n",
    "        max3 = F.max_pool1d(conv3_feature, conv3_feature.size(2)).squeeze(2)\n",
    "        max4 = F.max_pool1d(conv4_feature, conv4_feature.size(2)).squeeze(2)\n",
    "        \n",
    "        max1 = self.bn(self.dropout(max1))\n",
    "        max2 = self.bn(self.dropout(max2))\n",
    "        max3 = self.bn(self.dropout(max3))\n",
    "        max4 = self.bn(self.dropout(max4))\n",
    "\n",
    "        rnn1, _ = self.rnn(max1)\n",
    "        rnn2, _ = self.rnn(max2)\n",
    "        rnn3, _ = self.rnn(max3)\n",
    "        rnn4, _ = self.rnn(max4)\n",
    "        \n",
    "        x = torch.cat([rnn1, rnn2, rnn3, rnn4], dim=1)\n",
    "        # print(x.size())\n",
    "\n",
    "        x = self.fc(x)\n",
    "\n",
    "        return x"
   ]
  },
  {
   "cell_type": "code",
   "execution_count": 18,
   "metadata": {},
   "outputs": [
    {
     "data": {
      "text/plain": [
       "tensor([[ 0.0099, -0.0081],\n",
       "        [-0.0129, -0.0300]], grad_fn=<AddmmBackward0>)"
      ]
     },
     "execution_count": 18,
     "metadata": {},
     "output_type": "execute_result"
    }
   ],
   "source": [
    "cnn_bilstm_model = CNN_biLSTM(len(vocab))\n",
    "cnn_bilstm_model.forward(sample_inputs)"
   ]
  },
  {
   "cell_type": "code",
   "execution_count": 28,
   "metadata": {},
   "outputs": [
    {
     "name": "stderr",
     "output_type": "stream",
     "text": [
      "/home/dev/anaconda3/envs/nlp/lib/python3.12/site-packages/lightning/pytorch/utilities/parsing.py:199: Attribute 'sentiment_classifier' is an instance of `nn.Module` and is already saved during checkpointing. It is recommended to ignore them using `self.save_hyperparameters(ignore=['sentiment_classifier'])`.\n",
      "Trainer already configured with model summary callbacks: [<class 'lightning.pytorch.callbacks.model_summary.ModelSummary'>]. Skipping setting a default `ModelSummary` callback.\n",
      "GPU available: True (cuda), used: True\n",
      "TPU available: False, using: 0 TPU cores\n",
      "IPU available: False, using: 0 IPUs\n",
      "HPU available: False, using: 0 HPUs\n"
     ]
    },
    {
     "data": {
      "text/html": [
       "wandb version 0.16.6 is available!  To upgrade, please run:\n",
       " $ pip install wandb --upgrade"
      ],
      "text/plain": [
       "<IPython.core.display.HTML object>"
      ]
     },
     "metadata": {},
     "output_type": "display_data"
    },
    {
     "data": {
      "text/html": [
       "Tracking run with wandb version 0.16.5"
      ],
      "text/plain": [
       "<IPython.core.display.HTML object>"
      ]
     },
     "metadata": {},
     "output_type": "display_data"
    },
    {
     "data": {
      "text/html": [
       "Run data is saved locally in <code>./wandb/run-20240409_213248-n60e3ytc</code>"
      ],
      "text/plain": [
       "<IPython.core.display.HTML object>"
      ]
     },
     "metadata": {},
     "output_type": "display_data"
    },
    {
     "data": {
      "text/html": [
       "Syncing run <strong><a href='https://wandb.ai/noeyhesx/NLP/runs/n60e3ytc/workspace' target=\"_blank\">cnn_bilstm_epoch3</a></strong> to <a href='https://wandb.ai/noeyhesx/NLP' target=\"_blank\">Weights & Biases</a> (<a href='https://wandb.me/run' target=\"_blank\">docs</a>)<br/>"
      ],
      "text/plain": [
       "<IPython.core.display.HTML object>"
      ]
     },
     "metadata": {},
     "output_type": "display_data"
    },
    {
     "data": {
      "text/html": [
       " View project at <a href='https://wandb.ai/noeyhesx/NLP' target=\"_blank\">https://wandb.ai/noeyhesx/NLP</a>"
      ],
      "text/plain": [
       "<IPython.core.display.HTML object>"
      ]
     },
     "metadata": {},
     "output_type": "display_data"
    },
    {
     "data": {
      "text/html": [
       " View run at <a href='https://wandb.ai/noeyhesx/NLP/runs/n60e3ytc/workspace' target=\"_blank\">https://wandb.ai/noeyhesx/NLP/runs/n60e3ytc/workspace</a>"
      ],
      "text/plain": [
       "<IPython.core.display.HTML object>"
      ]
     },
     "metadata": {},
     "output_type": "display_data"
    },
    {
     "name": "stderr",
     "output_type": "stream",
     "text": [
      "LOCAL_RANK: 0 - CUDA_VISIBLE_DEVICES: [0]\n",
      "\n",
      "   | Name            | Type             | Params\n",
      "------------------------------------------------------\n",
      "0  | model           | CNN_biLSTM       | 7.1 M \n",
      "1  | model.embedding | Embedding        | 5.9 M \n",
      "2  | model.conv1     | Conv2d           | 76.9 K\n",
      "3  | model.conv2     | Conv2d           | 128 K \n",
      "4  | model.conv3     | Conv2d           | 179 K \n",
      "5  | model.conv4     | Conv2d           | 230 K \n",
      "6  | model.dropout   | Dropout          | 0     \n",
      "7  | model.bn        | BatchNorm1d      | 256   \n",
      "8  | model.rnn       | LSTM             | 264 K \n",
      "9  | model.fc        | Sequential       | 262 K \n",
      "10 | loss            | CrossEntropyLoss | 0     \n",
      "------------------------------------------------------\n",
      "7.1 M     Trainable params\n",
      "0         Non-trainable params\n",
      "7.1 M     Total params\n",
      "28.204    Total estimated model params size (MB)\n"
     ]
    },
    {
     "name": "stdout",
     "output_type": "stream",
     "text": [
      "Epoch 2: 100%|██████████| 391/391 [00:22<00:00, 17.49it/s, v_num=3ytc]      "
     ]
    },
    {
     "name": "stderr",
     "output_type": "stream",
     "text": [
      "`Trainer.fit` stopped: `max_epochs=3` reached.\n"
     ]
    },
    {
     "name": "stdout",
     "output_type": "stream",
     "text": [
      "Epoch 2: 100%|██████████| 391/391 [00:22<00:00, 17.39it/s, v_num=3ytc]\n"
     ]
    },
    {
     "name": "stderr",
     "output_type": "stream",
     "text": [
      "/home/dev/anaconda3/envs/nlp/lib/python3.12/site-packages/lightning/pytorch/trainer/connectors/checkpoint_connector.py:145: `.test(ckpt_path=None)` was called without a model. The best model of the previous `fit` call will be used. You can pass `.test(ckpt_path='best')` to use the best model or `.test(ckpt_path='last')` to use the last model. If you pass a value, this warning will be silenced.\n",
      "Restoring states from the checkpoint path at ./NLP/n60e3ytc/checkpoints/epoch=2-step=1173.ckpt\n",
      "LOCAL_RANK: 0 - CUDA_VISIBLE_DEVICES: [0]\n",
      "Loaded model weights from the checkpoint at ./NLP/n60e3ytc/checkpoints/epoch=2-step=1173.ckpt\n"
     ]
    },
    {
     "name": "stdout",
     "output_type": "stream",
     "text": [
      "Testing DataLoader 0: 100%|██████████| 391/391 [00:05<00:00, 71.25it/s]\n",
      "────────────────────────────────────────────────────────────────────────────────────────────────────────────────────────\n",
      "       Test metric             DataLoader 0\n",
      "────────────────────────────────────────────────────────────────────────────────────────────────────────────────────────\n",
      "      avg_test_loss         0.28945043683052063\n",
      "      test_accuracy         0.8801199793815613\n",
      "        test_loss            0.289479523897171\n",
      "────────────────────────────────────────────────────────────────────────────────────────────────────────────────────────\n"
     ]
    },
    {
     "data": {
      "text/html": [
       "<style>\n",
       "    table.wandb td:nth-child(1) { padding: 0 10px; text-align: left ; width: auto;} td:nth-child(2) {text-align: left ; width: 100%}\n",
       "    .wandb-row { display: flex; flex-direction: row; flex-wrap: wrap; justify-content: flex-start; width: 100% }\n",
       "    .wandb-col { display: flex; flex-direction: column; flex-basis: 100%; flex: 1; padding: 10px; }\n",
       "    </style>\n",
       "<div class=\"wandb-row\"><div class=\"wandb-col\"><h3>Run history:</h3><br/><table class=\"wandb\"><tr><td>avg_test_loss</td><td>▁</td></tr><tr><td>avg_val_loss</td><td>▁██</td></tr><tr><td>epoch</td><td>▁▁▁▁▁▁▁▁▃▃▃▃▃▃▃▃▃▆▆▆▆▆▆▆▆▆█</td></tr><tr><td>test_accuracy</td><td>▁</td></tr><tr><td>test_loss</td><td>▁</td></tr><tr><td>train_loss</td><td>▅▄▅▄█▅▅▄▁▂▂▂▂▃▅▃▃▁▂▅▂▂▇</td></tr><tr><td>trainer/global_step</td><td>▁▁▂▂▂▃▃▃▃▃▄▄▄▅▅▅▆▆▆▆▇▇▇████</td></tr><tr><td>val_accuracy</td><td>█▁▄</td></tr><tr><td>val_loss</td><td>▁██</td></tr></table><br/></div><div class=\"wandb-col\"><h3>Run summary:</h3><br/><table class=\"wandb\"><tr><td>avg_test_loss</td><td>0.28945</td></tr><tr><td>avg_val_loss</td><td>0.28945</td></tr><tr><td>epoch</td><td>3</td></tr><tr><td>test_accuracy</td><td>0.88012</td></tr><tr><td>test_loss</td><td>0.28948</td></tr><tr><td>train_loss</td><td>0.14064</td></tr><tr><td>trainer/global_step</td><td>1173</td></tr><tr><td>val_accuracy</td><td>0.88012</td></tr><tr><td>val_loss</td><td>0.28948</td></tr></table><br/></div></div>"
      ],
      "text/plain": [
       "<IPython.core.display.HTML object>"
      ]
     },
     "metadata": {},
     "output_type": "display_data"
    },
    {
     "data": {
      "text/html": [
       " View run <strong style=\"color:#cdcd00\">cnn_bilstm_epoch3</strong> at: <a href='https://wandb.ai/noeyhesx/NLP/runs/n60e3ytc/workspace' target=\"_blank\">https://wandb.ai/noeyhesx/NLP/runs/n60e3ytc/workspace</a><br/>Synced 6 W&B file(s), 0 media file(s), 0 artifact file(s) and 0 other file(s)"
      ],
      "text/plain": [
       "<IPython.core.display.HTML object>"
      ]
     },
     "metadata": {},
     "output_type": "display_data"
    },
    {
     "data": {
      "text/html": [
       "Find logs at: <code>./wandb/run-20240409_213248-n60e3ytc/logs</code>"
      ],
      "text/plain": [
       "<IPython.core.display.HTML object>"
      ]
     },
     "metadata": {},
     "output_type": "display_data"
    }
   ],
   "source": [
    "check_performance(cnn_bilstm_model, vocab, tokenized_train_dataset, tokenized_test_dataset, 3, \"cnn_bilstm_epoch3\")"
   ]
  }
 ],
 "metadata": {
  "kernelspec": {
   "display_name": "nlp",
   "language": "python",
   "name": "python3"
  },
  "language_info": {
   "codemirror_mode": {
    "name": "ipython",
    "version": 3
   },
   "file_extension": ".py",
   "mimetype": "text/x-python",
   "name": "python",
   "nbconvert_exporter": "python",
   "pygments_lexer": "ipython3",
   "version": "3.12.2"
  }
 },
 "nbformat": 4,
 "nbformat_minor": 2
}
