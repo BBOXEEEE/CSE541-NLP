{
  "cells": [
    {
      "cell_type": "code",
      "execution_count": null,
      "metadata": {
        "id": "gjx3q0bAUkst"
      },
      "outputs": [],
      "source": [
        "!pip install lightning wandb konlpy"
      ]
    },
    {
      "cell_type": "code",
      "execution_count": null,
      "metadata": {
        "id": "OnC_GM8uOiky"
      },
      "outputs": [],
      "source": [
        "import torch\n",
        "import random\n",
        "import numpy as np\n",
        "\n",
        "np.random.seed(0)\n",
        "random.seed(0)\n",
        "torch.manual_seed(0)"
      ]
    },
    {
      "cell_type": "code",
      "execution_count": 1,
      "metadata": {
        "id": "LuObTc2yOiky"
      },
      "outputs": [
        {
          "name": "stdout",
          "output_type": "stream",
          "text": [
            "id\tdocument\tlabel\n",
            "\n",
            "9976970\t아 더빙.. 진짜 짜증나네요 목소리\t0\n",
            "\n",
            "3819312\t흠...포스터보고 초딩영화줄....오버연기조차 가볍지 않구나\t1\n",
            "\n",
            "10265843\t너무재밓었다그래서보는것을추천한다\t0\n",
            "\n",
            "9045019\t교도소 이야기구먼 ..솔직히 재미는 없다..평점 조정\t0\n",
            "\n"
          ]
        }
      ],
      "source": [
        "from requests import get\n",
        "from os.path import exists\n",
        "\n",
        "def download(url, filename):\n",
        "    if exists(filename):\n",
        "        print(f\"{filename} already exists\")\n",
        "    else:\n",
        "        with open(filename, \"wb\") as file:\n",
        "            response = get(url)\n",
        "            file.write(response.content)\n",
        "\n",
        "download(\"https://raw.githubusercontent.com/e9t/nsmc/master/ratings_train.txt\", \"ratings_train.txt\")\n",
        "download(\"https://raw.githubusercontent.com/e9t/nsmc/master/ratings_test.txt\", \"ratings_test.txt\")\n",
        "\n",
        "with open(\"ratings_train.txt\", \"r\") as file:\n",
        "    for i in range(5):\n",
        "        print(file.readline())\n",
        "\n",
        "with open(\"ratings_train.txt\", \"r\", encoding=\"utf-8\") as file:\n",
        "    contents = file.read()\n",
        "    lines = contents.split(\"\\n\")[1:]\n",
        "    train_data = [line.split(\"\\t\") for line in lines if len(line) > 0]\n",
        "\n",
        "with open(\"ratings_test.txt\", \"r\", encoding=\"utf-8\") as file:\n",
        "    contents = file.read()\n",
        "    lines = contents.split(\"\\n\")[1:]\n",
        "    test_data = [line.split(\"\\t\") for line in lines if len(line) > 0]"
      ]
    },
    {
      "cell_type": "code",
      "execution_count": null,
      "metadata": {
        "id": "wWLHeF0LOiky"
      },
      "outputs": [],
      "source": [
        "import torch\n",
        "import torch.nn as nn\n",
        "import torch.nn.functional as F\n",
        "\n",
        "class SentimentClassifier(nn.Module):\n",
        "    def __init__(self, vocab_size):\n",
        "        super(SentimentClassifier, self).__init__()\n",
        "        self.embedding = nn.Embedding(vocab_size, 32)\n",
        "        self.fc1 = nn.Linear(32 * 100, 100)\n",
        "        self.fc2 = nn.Linear(100, 2)\n",
        "\n",
        "    def forward(self, x):\n",
        "        x = self.embedding(x)\n",
        "        x = x.view(-1, 32 * 100)\n",
        "        x = F.relu(self.fc1(x))\n",
        "        x = self.fc2(x)\n",
        "        return x"
      ]
    },
    {
      "cell_type": "code",
      "execution_count": null,
      "metadata": {
        "id": "5ktkqoqgOikz"
      },
      "outputs": [],
      "source": [
        "import lightning as pl\n",
        "\n",
        "class SentimentClassifierPL(pl.LightningModule):\n",
        "    def __init__(self, sentiment_classifier):\n",
        "        super(SentimentClassifierPL, self).__init__()\n",
        "        self.model = sentiment_classifier\n",
        "        self.loss = nn.CrossEntropyLoss()\n",
        "\n",
        "        self.validation_step_outputs = []\n",
        "        self.test_step_outputs = []\n",
        "        self.save_hyperparameters()\n",
        "\n",
        "    def training_step(self, batch, batch_idx):\n",
        "        inputs, labels = batch\n",
        "        outputs = self.model(inputs)\n",
        "        loss = self.loss(outputs, labels)\n",
        "        self.log(\"train_loss\", loss)\n",
        "        return loss\n",
        "\n",
        "    def validation_step(self, batch, batch_idx):\n",
        "        inputs, labels = batch\n",
        "        outputs = self.model(inputs)\n",
        "        loss = self.loss(outputs, labels)\n",
        "        self.log(\"val_loss\", loss)\n",
        "        self.validation_step_outputs.append((loss, outputs, labels))\n",
        "        return loss, outputs, labels\n",
        "\n",
        "    def on_validation_epoch_end(self):\n",
        "        outputs = self.validation_step_outputs\n",
        "        avg_loss = torch.stack([x[0] for x in outputs]).mean()\n",
        "        self.log(\"avg_val_loss\", avg_loss)\n",
        "\n",
        "        all_outputs = torch.cat([x[1] for x in outputs])\n",
        "        all_labels = torch.cat([x[2] for x in outputs])\n",
        "        all_preds = all_outputs.argmax(dim=1)\n",
        "        accuracy = (all_preds == all_labels).float().mean()\n",
        "        self.log(\"val_accuracy\", accuracy)\n",
        "        self.validation_step_outputs.clear()\n",
        "\n",
        "    def test_step(self, batch, batch_idx):\n",
        "        inputs, labels = batch\n",
        "        outputs = self.model(inputs)\n",
        "        loss = self.loss(outputs, labels)\n",
        "        self.log(\"test_loss\", loss)\n",
        "        self.test_step_outputs.append((loss, outputs, labels))\n",
        "        return loss, outputs, labels\n",
        "\n",
        "    def on_test_epoch_end(self):\n",
        "        outputs = self.test_step_outputs\n",
        "        avg_loss = torch.stack([x[0] for x in outputs]).mean()\n",
        "        self.log(\"avg_test_loss\", avg_loss)\n",
        "\n",
        "        all_outputs = torch.cat([x[1] for x in outputs])\n",
        "        all_labels = torch.cat([x[2] for x in outputs])\n",
        "        all_preds = all_outputs.argmax(dim=1)\n",
        "        accuracy = (all_preds == all_labels).float().mean()\n",
        "        self.log(\"test_accuracy\", accuracy)\n",
        "        self.test_step_outputs.clear()\n",
        "\n",
        "    def configure_optimizers(self):\n",
        "        optimizer = torch.optim.Adam(self.model.parameters(), lr=1e-3)\n",
        "        return optimizer"
      ]
    },
    {
      "cell_type": "code",
      "execution_count": null,
      "metadata": {
        "id": "8qA1GMuvOikz"
      },
      "outputs": [],
      "source": [
        "from torch.utils.data import Dataset, DataLoader\n",
        "\n",
        "class SentimentDataset(Dataset):\n",
        "    def __init__(self, data, vocab):\n",
        "        self.data = data\n",
        "        self.vocab = vocab\n",
        "\n",
        "    def __len__(self):\n",
        "        return len(self.data)\n",
        "\n",
        "    def __getitem__(self, index):\n",
        "        label = int(self.data[index][1])\n",
        "        tokens = self.data[index][0]\n",
        "\n",
        "        token_ids = [self.vocab[token] if token in self.vocab else 1 for token in tokens]\n",
        "        \n",
        "        if len(token_ids) > 100:\n",
        "            token_ids = token_ids[:100]\n",
        "        else:\n",
        "            token_ids = token_ids[:100] + [0] * (100 - len(token_ids))\n",
        "\n",
        "        return torch.tensor(token_ids), torch.tensor(label)"
      ]
    },
    {
      "cell_type": "code",
      "execution_count": null,
      "metadata": {
        "id": "FLtcJfd5Oikz"
      },
      "outputs": [],
      "source": [
        "import wandb\n",
        "from lightning.pytorch.loggers import WandbLogger\n",
        "\n",
        "wandb.login()\n",
        "\n",
        "def check_vocab_properties(vocab):\n",
        "    print(f\"Vocab size: {len(vocab)}\")\n",
        "    print(f\"Vocab items: {list(vocab.items())[:5]}\")\n",
        "\n",
        "\n",
        "def check_performance(vocab,train_data, test_data, wandb_log_name):\n",
        "    wandb_logger = WandbLogger(project=\"NLP\", name=wandb_log_name, group=\"Lec02\")\n",
        "\n",
        "    model = SentimentClassifier(len(vocab))\n",
        "    pl_model = SentimentClassifierPL(model)\n",
        "\n",
        "    train_dataset = SentimentDataset(train_data, vocab)\n",
        "    train_loader = DataLoader(train_dataset, batch_size=64, shuffle=True, num_workers=4)\n",
        "    val_dataset = SentimentDataset(test_data, vocab)\n",
        "    val_loader = DataLoader(val_dataset, batch_size=64, shuffle=False, num_workers=4)\n",
        "    test_dataset = SentimentDataset(test_data, vocab)\n",
        "    test_loader = DataLoader(test_dataset, batch_size=64, shuffle=False, num_workers=4)\n",
        "\n",
        "    trainer = pl.Trainer(max_epochs=1,\n",
        "                     accelerator=\"gpu\",\n",
        "                     logger=wandb_logger\n",
        "                     )\n",
        "\n",
        "    trainer.fit(model=pl_model,\n",
        "                train_dataloaders=train_loader,\n",
        "                val_dataloaders=val_loader)\n",
        "\n",
        "    trainer.test(dataloaders=test_loader)\n",
        "\n",
        "    wandb.finish()"
      ]
    },
    {
      "cell_type": "markdown",
      "metadata": {
        "id": "P9rQlE29Oikz"
      },
      "source": [
        "### (기존) Char Vocab"
      ]
    },
    {
      "cell_type": "code",
      "execution_count": null,
      "metadata": {
        "id": "crVvx9SjOik0"
      },
      "outputs": [],
      "source": [
        "char_vocab = {\"[PAD]\":0, \"[UNK]\":1}\n",
        "char_vocab_idx = 2\n",
        "\n",
        "tokenizer = lambda x: x\n",
        "\n",
        "tokenized_train_dataset = []\n",
        "tokenized_test_dataset = []\n",
        "\n",
        "for data in train_data:\n",
        "    tokens = tokenizer(data[1])\n",
        "    labels = data[2]\n",
        "    tokenized_train_dataset.append((tokens, labels))\n",
        "\n",
        "for data in test_data:\n",
        "    tokens = tokenizer(data[1])\n",
        "    labels = data[2]\n",
        "    tokenized_test_dataset.append((tokens, labels))\n",
        "\n",
        "for tokens, _ in tokenized_train_dataset:\n",
        "    for token in tokens:\n",
        "        if token not in char_vocab:\n",
        "            char_vocab[token] = char_vocab_idx\n",
        "            char_vocab_idx += 1"
      ]
    },
    {
      "cell_type": "code",
      "execution_count": null,
      "metadata": {
        "id": "JrQUMREoOik0"
      },
      "outputs": [],
      "source": [
        "check_vocab_properties(char_vocab)"
      ]
    },
    {
      "cell_type": "code",
      "execution_count": null,
      "metadata": {
        "id": "h3PhyuEdOik0"
      },
      "outputs": [],
      "source": [
        "check_performance(char_vocab, tokenized_train_dataset, tokenized_test_dataset, \"char_vocab\")"
      ]
    },
    {
      "cell_type": "markdown",
      "metadata": {
        "id": "MSFtJ4rsOik0"
      },
      "source": [
        "### Whitespace tokenizer를 이용한 단순 Vocab"
      ]
    },
    {
      "cell_type": "code",
      "execution_count": null,
      "metadata": {
        "id": "5AckXEuOOik0"
      },
      "outputs": [],
      "source": [
        "from collections import Counter\n",
        "from tqdm import tqdm\n",
        "\n",
        "whitespace_vocab = {\"[PAD]\":0, \"[UNK]\":1}\n",
        "whitespace_vocab_idx = 2\n",
        "\n",
        "tokenizer = lambda x: x.split()\n",
        "\n",
        "tokenized_train_dataset = []\n",
        "tokenized_test_dataset = []\n",
        "\n",
        "for data in train_data:\n",
        "    tokens = tokenizer(data[1])\n",
        "    labels = data[2]\n",
        "    tokenized_train_dataset.append((tokens, labels))\n",
        "\n",
        "for data in test_data:\n",
        "    tokens = tokenizer(data[1])\n",
        "    labels = data[2]\n",
        "    tokenized_test_dataset.append((tokens, labels))\n",
        "\n",
        "for tokens, _ in tokenized_train_dataset:\n",
        "    for token in tokens:\n",
        "        if token not in whitespace_vocab:\n",
        "            whitespace_vocab[token] = whitespace_vocab_idx\n",
        "            whitespace_vocab_idx += 1"
      ]
    },
    {
      "cell_type": "code",
      "execution_count": null,
      "metadata": {
        "id": "kBfN3tu3Oik0"
      },
      "outputs": [],
      "source": [
        "check_vocab_properties(whitespace_vocab)"
      ]
    },
    {
      "cell_type": "code",
      "execution_count": null,
      "metadata": {
        "id": "gv6vog3IOik0"
      },
      "outputs": [],
      "source": [
        "check_performance(whitespace_vocab, tokenized_train_dataset, tokenized_test_dataset, \"whitespace\")"
      ]
    },
    {
      "cell_type": "markdown",
      "metadata": {
        "id": "_D_RUZQlOik0"
      },
      "source": [
        "### 등장빈도가 너무 적은 토큰 삭제"
      ]
    },
    {
      "cell_type": "code",
      "execution_count": null,
      "metadata": {
        "id": "ZXWfLsxXOik0"
      },
      "outputs": [],
      "source": [
        "from collections import Counter\n",
        "\n",
        "tokenizer = lambda x: x.split()\n",
        "\n",
        "token_counter = Counter()\n",
        "\n",
        "for tokens, _ in tokenized_train_dataset:\n",
        "    token_counter.update(tokens)"
      ]
    },
    {
      "cell_type": "code",
      "execution_count": null,
      "metadata": {
        "id": "bk6TELQbOik0"
      },
      "outputs": [],
      "source": [
        "len(token_counter)"
      ]
    },
    {
      "cell_type": "code",
      "execution_count": null,
      "metadata": {
        "id": "O4C4sX8POik1"
      },
      "outputs": [],
      "source": [
        "token_counter.most_common(10)"
      ]
    },
    {
      "cell_type": "code",
      "execution_count": null,
      "metadata": {
        "id": "kuYeQc9VOik1"
      },
      "outputs": [],
      "source": [
        "token_counter.most_common()[-10:]"
      ]
    },
    {
      "cell_type": "code",
      "execution_count": null,
      "metadata": {
        "id": "PEhDhG3POik1"
      },
      "outputs": [],
      "source": [
        "import matplotlib.pyplot as plt\n",
        "\n",
        "def plot_frequency_distribution(counter):\n",
        "    plt.plot(counter.values())\n",
        "    plt.ylabel('Token Frequency')\n",
        "    plt.show()"
      ]
    },
    {
      "cell_type": "code",
      "execution_count": null,
      "metadata": {
        "id": "e07G-relOik1"
      },
      "outputs": [],
      "source": [
        "plot_frequency_distribution(token_counter)"
      ]
    },
    {
      "cell_type": "code",
      "execution_count": null,
      "metadata": {
        "id": "qEkoA9q7Oik1"
      },
      "outputs": [],
      "source": [
        "min_count = 1\n",
        "min1removed_vocab = {\"[PAD]\":0, \"[UNK]\":1}\n",
        "min1removed_vocab_idx = 2\n",
        "\n",
        "for token, count in token_counter.items():\n",
        "    if count > min_count:\n",
        "        min1removed_vocab[token] = min1removed_vocab_idx\n",
        "        min1removed_vocab_idx += 1"
      ]
    },
    {
      "cell_type": "code",
      "execution_count": null,
      "metadata": {
        "id": "MP5pYl2zOik1"
      },
      "outputs": [],
      "source": [
        "check_vocab_properties(min1removed_vocab)"
      ]
    },
    {
      "cell_type": "code",
      "execution_count": null,
      "metadata": {
        "id": "e9fzn6fCOik1"
      },
      "outputs": [],
      "source": [
        "check_performance(min1removed_vocab, tokenized_train_dataset, tokenized_test_dataset, \"whitespace_min_count_1\")"
      ]
    },
    {
      "cell_type": "code",
      "execution_count": null,
      "metadata": {
        "id": "Vz4KGsSFOik1"
      },
      "outputs": [],
      "source": [
        "token_counter.most_common()[-40:]"
      ]
    },
    {
      "cell_type": "markdown",
      "metadata": {
        "id": "dZZh7FJhOik1"
      },
      "source": [
        "### 문장부호 및 자음, 모음(e.g. ㅋㅋ) 제거"
      ]
    },
    {
      "cell_type": "code",
      "execution_count": null,
      "metadata": {
        "id": "E0XQ8zgcOik1"
      },
      "outputs": [],
      "source": [
        "import re\n",
        "\n",
        "tokenizer = lambda x: x.split()\n",
        "\n",
        "tokenized_train_dataset = []\n",
        "tokenized_test_dataset = []\n",
        "\n",
        "for data in train_data:\n",
        "    text = re.sub(r'[,.!?;:()\\\"\\'-]', ' ', data[1])\n",
        "    text = re.sub(r'[ㄱ-ㅎㅏ-ㅣ]', ' ', text)\n",
        "    tokens = tokenizer(text)\n",
        "    labels = data[2]\n",
        "    tokenized_train_dataset.append((tokens, labels))\n",
        "\n",
        "for data in test_data:\n",
        "    text = re.sub(r'[,.!?;:()\\\"\\'-]', ' ', data[1])\n",
        "    text = re.sub(r'[ㄱ-ㅎㅏ-ㅣ]', ' ', text)\n",
        "    tokens = tokenizer(text)\n",
        "    labels = data[2]\n",
        "    tokenized_test_dataset.append((tokens, labels))\n",
        "\n",
        "token_counter = Counter()\n",
        "\n",
        "for tokens, _ in tokenized_train_dataset:\n",
        "    token_counter.update(tokens)"
      ]
    },
    {
      "cell_type": "code",
      "execution_count": null,
      "metadata": {
        "id": "scimgdSwOik1"
      },
      "outputs": [],
      "source": [
        "len(token_counter)"
      ]
    },
    {
      "cell_type": "code",
      "execution_count": null,
      "metadata": {
        "id": "u9UHfaE9Oik2"
      },
      "outputs": [],
      "source": [
        "token_counter.most_common(10)"
      ]
    },
    {
      "cell_type": "code",
      "execution_count": null,
      "metadata": {
        "id": "qVf0uI4DOik2"
      },
      "outputs": [],
      "source": [
        "token_counter.most_common()[-10:]"
      ]
    },
    {
      "cell_type": "code",
      "execution_count": null,
      "metadata": {
        "id": "73AwgBvuOik2"
      },
      "outputs": [],
      "source": [
        "min_count = 1\n",
        "cleaned_vocab = {\"[PAD]\":0, \"[UNK]\":1}\n",
        "cleaned_vocab_idx = 2\n",
        "\n",
        "for token, count in token_counter.items():\n",
        "    if count > min_count:\n",
        "        cleaned_vocab[token] = cleaned_vocab_idx\n",
        "        cleaned_vocab_idx += 1"
      ]
    },
    {
      "cell_type": "code",
      "execution_count": null,
      "metadata": {
        "id": "IWofp4f8Oik2"
      },
      "outputs": [],
      "source": [
        "check_vocab_properties(cleaned_vocab)"
      ]
    },
    {
      "cell_type": "code",
      "execution_count": null,
      "metadata": {
        "id": "5l6NoNqYOik2"
      },
      "outputs": [],
      "source": [
        "check_performance(cleaned_vocab, tokenized_train_dataset, tokenized_test_dataset, \"whitespace_mc1_cleaned\")"
      ]
    },
    {
      "cell_type": "markdown",
      "metadata": {
        "id": "pELo6Vt_Oik2"
      },
      "source": [
        "### 정규화와 Stemming (with Konlpy)"
      ]
    },
    {
      "cell_type": "code",
      "execution_count": null,
      "metadata": {
        "id": "aW05PooyOik2"
      },
      "outputs": [],
      "source": [
        "from konlpy.tag import Okt          #https://konlpy.org/ko/latest/install/#ubuntu\n",
        "\n",
        "tokenizer = Okt().morphs\n",
        "\n",
        "okt_test_str = \"'다 알바생인가 내용도 없고 무서운거도 없고 웃긴거도 하나도 없음 완전 별싱거운 영화.ㅇ.ㅇ내ㅇ시간 넘 아까움 .. . 완전 낚잌ㅋㅋ\"\n",
        "\n",
        "print(tokenizer(okt_test_str))\n",
        "print(tokenizer(okt_test_str, norm=True))\n",
        "print(tokenizer(okt_test_str, norm=True, stem=True))"
      ]
    },
    {
      "cell_type": "code",
      "execution_count": null,
      "metadata": {
        "id": "QGQ8L-zLOik2"
      },
      "outputs": [],
      "source": [
        "from tqdm import tqdm\n",
        "import pickle\n",
        "\n",
        "okt_train_file = \"okt_train_dataset.pkl\"\n",
        "okt_test_file = \"okt_test_dataset.pkl\"\n",
        "t\n",
        "if exists(okt_train_file):\n",
        "    print(f\"{okt_train_file} already exists\")\n",
        "    with open(okt_train_file, \"rb\") as file:\n",
        "        tokenized_train_dataset = pickle.load(file)\n",
        "    with open(okt_test_file, \"rb\") as file:\n",
        "        tokenized_test_dataset = pickle.load(file)\n",
        "\n",
        "else:\n",
        "    tokenized_train_dataset = []\n",
        "    tokenized_test_dataset = []\n",
        "\n",
        "    for data in tqdm(train_data):\n",
        "        text = re.sub(r'[,.!?;:()\\\"\\'-]', ' ', data[1])\n",
        "        text = re.sub(r'[ㄱ-ㅎㅏ-ㅣ]', ' ', text)\n",
        "        tokens = tokenizer(text)\n",
        "        labels = data[2]\n",
        "        tokenized_train_dataset.append((tokens, labels))\n",
        "\n",
        "    with open(okt_train_file, \"wb\") as file:\n",
        "        pickle.dump(tokenized_train_dataset, file)\n",
        "\n",
        "    for data in tqdm(test_data):\n",
        "        text = re.sub(r'[,.!?;:()\\\"\\'-]', ' ', data[1])\n",
        "        text = re.sub(r'[ㄱ-ㅎㅏ-ㅣ]', ' ', text)\n",
        "        tokens = tokenizer(text)\n",
        "        labels = data[2]\n",
        "        tokenized_test_dataset.append((tokens, labels))\n",
        "\n",
        "    with open(okt_test_file, \"wb\") as file:\n",
        "        pickle.dump(tokenized_test_dataset, file)"
      ]
    },
    {
      "cell_type": "code",
      "execution_count": null,
      "metadata": {
        "id": "C0tgqM2vOik2"
      },
      "outputs": [],
      "source": [
        "token_counter = Counter()\n",
        "\n",
        "for tokens, _ in tokenized_train_dataset:\n",
        "    token_counter.update(tokens)"
      ]
    },
    {
      "cell_type": "code",
      "execution_count": null,
      "metadata": {
        "id": "YIuLoWj1Oik2"
      },
      "outputs": [],
      "source": [
        "token_counter.most_common(10)"
      ]
    },
    {
      "cell_type": "code",
      "execution_count": null,
      "metadata": {
        "id": "SaiBsxReOik2"
      },
      "outputs": [],
      "source": [
        "token_counter.most_common()[-10:]"
      ]
    },
    {
      "cell_type": "code",
      "execution_count": null,
      "metadata": {
        "id": "khMkWy2mOik3"
      },
      "outputs": [],
      "source": [
        "plot_frequency_distribution(token_counter)"
      ]
    },
    {
      "cell_type": "code",
      "execution_count": null,
      "metadata": {
        "id": "dgckK5pbOik3"
      },
      "outputs": [],
      "source": [
        "min_count = 1\n",
        "okt_vocab = {\"[PAD]\":0, \"[UNK]\":1}\n",
        "okt_vocab_idx = 2\n",
        "\n",
        "for token, count in token_counter.items():\n",
        "    if count > min_count:\n",
        "        okt_vocab[token] = okt_vocab_idx\n",
        "        okt_vocab_idx += 1"
      ]
    },
    {
      "cell_type": "code",
      "execution_count": null,
      "metadata": {
        "id": "ZrEezQIeOik3"
      },
      "outputs": [],
      "source": [
        "check_vocab_properties(okt_vocab)"
      ]
    },
    {
      "cell_type": "code",
      "execution_count": null,
      "metadata": {
        "id": "7fI8kwvqOik3"
      },
      "outputs": [],
      "source": [
        "check_performance(okt_vocab, tokenized_train_dataset, tokenized_test_dataset, \"okt\")"
      ]
    },
    {
      "cell_type": "code",
      "execution_count": null,
      "metadata": {
        "id": "RhNpZmISOik3"
      },
      "outputs": [],
      "source": [
        "okt_train_file = \"okt_norm_train_dataset.pkl\"\n",
        "okt_test_file = \"okt_norm_test_dataset.pkl\"\n",
        "\n",
        "if exists(okt_train_file):\n",
        "    print(f\"{okt_train_file} already exists\")\n",
        "    with open(okt_train_file, \"rb\") as file:\n",
        "        tokenized_train_dataset = pickle.load(file)\n",
        "    with open(okt_test_file, \"rb\") as file:\n",
        "        tokenized_test_dataset = pickle.load(file)\n",
        "\n",
        "else:\n",
        "    tokenized_train_dataset = []\n",
        "    tokenized_test_dataset = []\n",
        "\n",
        "    for data in tqdm(train_data):\n",
        "        text = re.sub(r'[,.!?;:()\\\"\\'-]', ' ', data[1])\n",
        "        text = re.sub(r'[ㄱ-ㅎㅏ-ㅣ]', ' ', text)\n",
        "        tokens = tokenizer(text, norm=True)\n",
        "        labels = data[2]\n",
        "        tokenized_train_dataset.append((tokens, labels))\n",
        "\n",
        "    with open(okt_train_file, \"wb\") as file:\n",
        "        pickle.dump(tokenized_train_dataset, file)\n",
        "\n",
        "    for data in tqdm(test_data):\n",
        "        text = re.sub(r'[,.!?;:()\\\"\\'-]', ' ', data[1])\n",
        "        text = re.sub(r'[ㄱ-ㅎㅏ-ㅣ]', ' ', text)\n",
        "        tokens = tokenizer(text, norm=True)\n",
        "        labels = data[2]\n",
        "        tokenized_test_dataset.append((tokens, labels))\n",
        "\n",
        "    with open(okt_test_file, \"wb\") as file:\n",
        "        pickle.dump(tokenized_test_dataset, file)"
      ]
    },
    {
      "cell_type": "code",
      "execution_count": null,
      "metadata": {
        "id": "Sze-ocCeOik3"
      },
      "outputs": [],
      "source": [
        "token_counter = Counter()\n",
        "\n",
        "for tokens, _ in tokenized_train_dataset:\n",
        "    token_counter.update(tokens)"
      ]
    },
    {
      "cell_type": "code",
      "execution_count": null,
      "metadata": {
        "id": "XG-EzjlUOik4"
      },
      "outputs": [],
      "source": [
        "token_counter.most_common(10)"
      ]
    },
    {
      "cell_type": "code",
      "execution_count": null,
      "metadata": {
        "id": "gkvZ-V7GOik4"
      },
      "outputs": [],
      "source": [
        "token_counter.most_common()[-10:]"
      ]
    },
    {
      "cell_type": "code",
      "execution_count": null,
      "metadata": {
        "id": "gFX7aJQjOik4"
      },
      "outputs": [],
      "source": [
        "min_count = 1\n",
        "okt_norm_vocab = {\"[PAD]\":0, \"[UNK]\":1}\n",
        "okt_norm_vocab_idx = 2\n",
        "\n",
        "for token, count in token_counter.items():\n",
        "    if count > min_count:\n",
        "        okt_norm_vocab[token] = okt_norm_vocab_idx\n",
        "        okt_norm_vocab_idx += 1"
      ]
    },
    {
      "cell_type": "code",
      "execution_count": null,
      "metadata": {
        "id": "gQp_NiJZOik4"
      },
      "outputs": [],
      "source": [
        "check_vocab_properties(okt_norm_vocab)"
      ]
    },
    {
      "cell_type": "code",
      "execution_count": null,
      "metadata": {
        "id": "MfeglJAGOik4"
      },
      "outputs": [],
      "source": [
        "check_performance(okt_norm_vocab, tokenized_train_dataset, tokenized_test_dataset, \"okt_norm\")"
      ]
    },
    {
      "cell_type": "code",
      "execution_count": null,
      "metadata": {
        "id": "YinNyE5IOik4"
      },
      "outputs": [],
      "source": [
        "okt_train_file = \"okt_stem_train_dataset.pkl\"\n",
        "okt_test_file = \"okt_stem_test_dataset.pkl\"\n",
        "\n",
        "if exists(okt_train_file):\n",
        "    print(f\"{okt_train_file} already exists\")\n",
        "    with open(okt_train_file, \"rb\") as file:\n",
        "        tokenized_train_dataset = pickle.load(file)\n",
        "    with open(okt_test_file, \"rb\") as file:\n",
        "        tokenized_test_dataset = pickle.load(file)\n",
        "\n",
        "else:\n",
        "    tokenized_train_dataset = []\n",
        "    tokenized_test_dataset = []\n",
        "\n",
        "    for data in tqdm(train_data):\n",
        "        text = re.sub(r'[,.!?;:()\\\"\\'-]', ' ', data[1])\n",
        "        text = re.sub(r'[ㄱ-ㅎㅏ-ㅣ]', ' ', text)\n",
        "        tokens = tokenizer(text, norm=True, stem=True)\n",
        "        labels = data[2]\n",
        "        tokenized_train_dataset.append((tokens, labels))\n",
        "\n",
        "    with open(okt_train_file, \"wb\") as file:\n",
        "        pickle.dump(tokenized_train_dataset, file)\n",
        "\n",
        "    for data in tqdm(test_data):\n",
        "        text = re.sub(r'[,.!?;:()\\\"\\'-]', ' ', data[1])\n",
        "        text = re.sub(r'[ㄱ-ㅎㅏ-ㅣ]', ' ', text)\n",
        "        tokens = tokenizer(text, norm=True, stem=True)\n",
        "        labels = data[2]\n",
        "        tokenized_test_dataset.append((tokens, labels))\n",
        "\n",
        "    with open(okt_test_file, \"wb\") as file:\n",
        "        pickle.dump(tokenized_test_dataset, file)"
      ]
    },
    {
      "cell_type": "code",
      "execution_count": null,
      "metadata": {
        "id": "LpKPfJKvOik4"
      },
      "outputs": [],
      "source": [
        "token_counter = Counter()\n",
        "\n",
        "for tokens, _ in tokenized_train_dataset:\n",
        "    token_counter.update(tokens)"
      ]
    },
    {
      "cell_type": "code",
      "execution_count": null,
      "metadata": {
        "id": "lM9OIN1MOik4"
      },
      "outputs": [],
      "source": [
        "token_counter.most_common(10)"
      ]
    },
    {
      "cell_type": "code",
      "execution_count": null,
      "metadata": {
        "id": "YOmHj9scOik4"
      },
      "outputs": [],
      "source": [
        "token_counter.most_common()[-10:]"
      ]
    },
    {
      "cell_type": "code",
      "execution_count": null,
      "metadata": {
        "id": "214u3sjTOik5"
      },
      "outputs": [],
      "source": [
        "min_count = 1\n",
        "okt_stem_vocab = {\"[PAD]\":0, \"[UNK]\":1}\n",
        "okt_stem_vocab_idx = 2\n",
        "\n",
        "for token, count in token_counter.items():\n",
        "    if count > min_count:\n",
        "        okt_stem_vocab[token] = okt_stem_vocab_idx\n",
        "        okt_stem_vocab_idx += 1"
      ]
    },
    {
      "cell_type": "code",
      "execution_count": null,
      "metadata": {
        "id": "5YKD3z73Oik5"
      },
      "outputs": [],
      "source": [
        "check_vocab_properties(okt_stem_vocab)"
      ]
    },
    {
      "cell_type": "code",
      "execution_count": null,
      "metadata": {
        "id": "AxZv6DF-Oik5"
      },
      "outputs": [],
      "source": [
        "check_performance(okt_stem_vocab, tokenized_train_dataset, tokenized_test_dataset, \"okt_stem\")"
      ]
    }
  ],
  "metadata": {
    "accelerator": "GPU",
    "colab": {
      "gpuType": "T4",
      "provenance": []
    },
    "kernelspec": {
      "display_name": "Python 3",
      "name": "python3"
    },
    "language_info": {
      "codemirror_mode": {
        "name": "ipython",
        "version": 3
      },
      "file_extension": ".py",
      "mimetype": "text/x-python",
      "name": "python",
      "nbconvert_exporter": "python",
      "pygments_lexer": "ipython3",
      "version": "3.12.2"
    }
  },
  "nbformat": 4,
  "nbformat_minor": 0
}
